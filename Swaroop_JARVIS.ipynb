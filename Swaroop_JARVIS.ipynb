{
 "cells": [
  {
   "cell_type": "code",
   "execution_count": 1,
   "id": "b9361e7b-b3c5-4df7-9eed-8b68a28c51be",
   "metadata": {},
   "outputs": [
    {
     "name": "stdout",
     "output_type": "stream",
     "text": [
      "You: hello\n",
      "You: how are you\n",
      "You: bye\n"
     ]
    }
   ],
   "source": [
    "import pyttsx3\n",
    "\n",
    "engine= pyttsx3.init()\n",
    "responses = {\n",
    "    \"hello\": \"Hi there!\",\n",
    "    \"how are you\": \"I'm a computer program, but I'm here to help!\",\n",
    "    \"who are you\": \"I'm your friendly assistant, Jarvis.\",\n",
    "    \"iron man\": \"Iron Man is a superhero.\",\n",
    "    \"bye\": \"Goodbye! Have a great day!\",\n",
    "}\n",
    "\n",
    "def get_jarvis_response(user_input):\n",
    "    response= responses.get(user_input, \"I'm not sure how to respond to that.\")\n",
    "    return response\n",
    "rate=engine.getProperty('rate')\n",
    "engine.setProperty('rate',rate-50)\n",
    "# Function to initiate the chat with Jarvis\n",
    "def start_chat():\n",
    "    engine.say(\"Jarvis: Hi there! How can I help you?\")\n",
    "    while True:\n",
    "        user_input = input(\"You: \").lower()\n",
    "        if user_input == \"bye\":\n",
    "            engine.say(\"Goodbye! Have a great day!\")\n",
    "            break\n",
    "        jarvis_says = get_jarvis_response(user_input)\n",
    "        engine.say(jarvis_says)\n",
    "        engine.runAndWait()\n",
    "\n",
    "start_chat()"
   ]
  },
  {
   "cell_type": "code",
   "execution_count": null,
   "id": "daf7d7fc",
   "metadata": {},
   "outputs": [],
   "source": []
  }
 ],
 "metadata": {
  "kernelspec": {
   "display_name": "Python 3 (ipykernel)",
   "language": "python",
   "name": "python3"
  },
  "language_info": {
   "codemirror_mode": {
    "name": "ipython",
    "version": 3
   },
   "file_extension": ".py",
   "mimetype": "text/x-python",
   "name": "python",
   "nbconvert_exporter": "python",
   "pygments_lexer": "ipython3",
   "version": "3.11.5"
  }
 },
 "nbformat": 4,
 "nbformat_minor": 5
}
